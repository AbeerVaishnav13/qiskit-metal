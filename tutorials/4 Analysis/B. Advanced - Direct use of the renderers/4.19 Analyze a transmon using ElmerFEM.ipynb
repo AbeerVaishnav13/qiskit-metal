{
 "cells": [
  {
   "cell_type": "code",
   "execution_count": 1,
   "id": "1f0a2bd1-c3fe-44ab-99dc-3a0144e8e621",
   "metadata": {},
   "outputs": [],
   "source": [
    "%load_ext autoreload\n",
    "%autoreload 2"
   ]
  },
  {
   "cell_type": "code",
   "execution_count": 2,
   "id": "1a045408-2634-4e53-ac30-1cb825d6a4ff",
   "metadata": {},
   "outputs": [],
   "source": [
    "from qiskit_metal import MetalGUI, designs\n",
    "from qiskit_metal.qlibrary.qubits.transmon_pocket_6 import TransmonPocket6"
   ]
  },
  {
   "cell_type": "code",
   "execution_count": 3,
   "id": "a76242c0-3b42-4157-bbcb-a99b3c47937a",
   "metadata": {},
   "outputs": [
    {
     "data": {
      "text/html": [
       "\n",
       "    <h1 style=\"\n",
       "        background: #12c2e9;  /* fallback for old browsers */\n",
       "        background: -webkit-linear-gradient(to right, #d4418e 0%, #0652c5 74%);  /* Chrome 10-25, Safari 5.1-6 */\n",
       "        background: linear-gradient(315deg, #d4418e 0%, #0652c5 74%); /* W3C, IE 10+/ Edge, Firefox 16+, Chrome 26+, Opera 12+, Safari 7+ */\n",
       "        margin-top: 50px;\n",
       "        border-style: outset;\n",
       "        padding-top:100px;\n",
       "        padding-bottom:50px;\n",
       "        padding-left:25px;\n",
       "        color: white;\n",
       "    \"> Create a Transmon Qubit in Qiskit Metal <h1>\n",
       "        "
      ],
      "text/plain": [
       "<IPython.core.display.HTML object>"
      ]
     },
     "metadata": {},
     "output_type": "display_data"
    }
   ],
   "source": [
    "%metal_heading Create a Transmon Qubit in Qiskit Metal"
   ]
  },
  {
   "cell_type": "code",
   "execution_count": 4,
   "id": "31a7b793-64a5-44c6-9176-718f9b7c1c66",
   "metadata": {},
   "outputs": [],
   "source": [
    "design = designs.DesignPlanar({}, True)\n",
    "gui = MetalGUI(design)"
   ]
  },
  {
   "cell_type": "code",
   "execution_count": 5,
   "id": "dd65f18a-bab4-4b84-bd60-a23c04aaf413",
   "metadata": {},
   "outputs": [],
   "source": [
    "conn_pads = dict(\n",
    "    connection_pads = dict(\n",
    "        readout = dict(loc_W=0, loc_H=-1),\n",
    "        coupler1 = dict(loc_W=-1, loc_H=1),\n",
    "        coupler2 = dict(loc_W=1, loc_H=1)\n",
    "    )\n",
    ")\n",
    "q1 = TransmonPocket6(design, \"Q1\", options=dict(**conn_pads))\n",
    "\n",
    "gui.rebuild()\n",
    "gui.autoscale()"
   ]
  },
  {
   "cell_type": "code",
   "execution_count": 6,
   "id": "88883f88-342e-449c-a1ce-c253a28c0145",
   "metadata": {},
   "outputs": [
    {
     "data": {
      "text/html": [
       "\n",
       "    <h1 style=\"\n",
       "        background: #12c2e9;  /* fallback for old browsers */\n",
       "        background: -webkit-linear-gradient(to right, #d4418e 0%, #0652c5 74%);  /* Chrome 10-25, Safari 5.1-6 */\n",
       "        background: linear-gradient(315deg, #d4418e 0%, #0652c5 74%); /* W3C, IE 10+/ Edge, Firefox 16+, Chrome 26+, Opera 12+, Safari 7+ */\n",
       "        margin-top: 50px;\n",
       "        border-style: outset;\n",
       "        padding-top:100px;\n",
       "        padding-bottom:50px;\n",
       "        padding-left:25px;\n",
       "        color: white;\n",
       "    \"> Render your design in QElmerRenderer <h1>\n",
       "        "
      ],
      "text/plain": [
       "<IPython.core.display.HTML object>"
      ]
     },
     "metadata": {},
     "output_type": "display_data"
    }
   ],
   "source": [
    "%metal_heading Render your design in QElmerRenderer"
   ]
  },
  {
   "cell_type": "code",
   "execution_count": 7,
   "id": "8c2f7a6a-f6ed-4892-96c3-a62f866ef37c",
   "metadata": {},
   "outputs": [],
   "source": [
    "from qiskit_metal.renderers.renderer_elmer.elmer_renderer import QElmerRenderer\n",
    "\n",
    "# Instantiate the Elmer renderer\n",
    "elmer_renderer = QElmerRenderer(design)\n",
    "\n",
    "# Elmer renderer uses the Gmsh renderer to\n",
    "# generate a mesh for the design\n",
    "# Set initial parameters for meshing in Gmsh (IMPORTANT step!!)\n",
    "elmer_renderer.gmsh.options.mesh.min_size = \"3um\"\n",
    "elmer_renderer.gmsh.options.mesh.max_size = \"30um\""
   ]
  },
  {
   "cell_type": "code",
   "execution_count": 8,
   "id": "f1728ac8-f95d-4a19-9e9a-ec8d7a57d822",
   "metadata": {
    "scrolled": true,
    "tags": []
   },
   "outputs": [
    {
     "name": "stdout",
     "output_type": "stream",
     "text": [
      "Info    : Meshing 1D...\n",
      "Info    : [  0%] Meshing curve 41 (Line)\n",
      "Info    : [  0%] Meshing curve 44 (Line)\n",
      "Info    : [  0%] Meshing curve 4 (Line)\n",
      "Info    : [  0%] Meshing curve 43 (Line)\n",
      "Info    : [  0%] Meshing curve 42 (Line)\n",
      "Info    : [  0%] Meshing curve 3 (Line)\n",
      "Info    : [  0%] Meshing curve 1 (Line)\n",
      "Info    : [  0%] Meshing curve 2 (Line)\n",
      "Info    : [ 10%] Meshing curve 45 (Line)\n",
      "Info    : [ 10%] Meshing curve 46 (Line)\n",
      "Info    : [ 10%] Meshing curve 48 (Line)\n",
      "Info    : [ 10%] Meshing curve 105 (Line)\n",
      "Info    : [ 10%] Meshing curve 107 (Line)\n",
      "Info    : [ 10%] Meshing curve 106 (Line)\n",
      "Info    : [ 10%] Meshing curve 108 (Line)\n",
      "Info    : [ 20%] Meshing curve 109 (Line)\n",
      "Info    : [ 20%] Meshing curve 110 (Line)\n",
      "Info    : [ 20%] Meshing curve 111 (Line)\n",
      "Info    : [ 20%] Meshing curve 112 (Line)\n",
      "Info    : [ 20%] Meshing curve 113 (Line)\n",
      "Info    : [ 10%] Meshing curve 47 (Line)\n",
      "Info    : [ 20%] Meshing curve 114 (Line)\n",
      "Info    : [ 20%] Meshing curve 115 (Line)\n",
      "Info    : [ 20%] Meshing curve 116 (Line)\n",
      "Info    : [ 20%] Meshing curve 117 (Line)\n",
      "Info    : [ 30%] Meshing curve 118 (Line)\n",
      "Info    : [ 30%] Meshing curve 119 (Line)\n",
      "Info    : [ 30%] Meshing curve 120 (Line)\n",
      "Info    : [ 30%] Meshing curve 121 (Line)\n",
      "Info    : [ 30%] Meshing curve 123 (Line)\n",
      "Info    : [ 30%] Meshing curve 122 (Line)\n",
      "Info    : [ 30%] Meshing curve 124 (Line)\n",
      "Info    : [ 30%] Meshing curve 125 (Line)\n",
      "Info    : [ 30%] Meshing curve 126 (Line)\n",
      "Info    : [ 40%] Meshing curve 127 (Line)\n",
      "Info    : [ 40%] Meshing curve 128 (Line)\n",
      "Info    : [ 40%] Meshing curve 129 (Line)\n",
      "Info    : [ 40%] Meshing curve 130 (Line)\n",
      "Info    : [ 40%] Meshing curve 131 (Line)\n",
      "Info    : [ 40%] Meshing curve 132 (Line)\n",
      "Info    : [ 40%] Meshing curve 133 (Line)\n",
      "Info    : [ 40%] Meshing curve 134 (Line)\n",
      "Info    : [ 50%] Meshing curve 135 (Line)\n",
      "Info    : [ 50%] Meshing curve 136 (Line)\n",
      "Info    : [ 50%] Meshing curve 137 (Line)\n",
      "Info    : [ 50%] Meshing curve 138 (Line)\n",
      "Info    : [ 50%] Meshing curve 139 (Line)\n",
      "Info    : [ 50%] Meshing curve 140 (Line)\n",
      "Info    : [ 50%] Meshing curve 141 (Line)\n",
      "Info    : [ 50%] Meshing curve 142 (Line)\n",
      "Info    : [ 50%] Meshing curve 143 (Line)\n",
      "Info    : [ 60%] Meshing curve 144 (Line)\n",
      "Info    : [ 60%] Meshing curve 145 (Line)\n",
      "Info    : [ 60%] Meshing curve 146 (Line)\n",
      "Info    : [ 60%] Meshing curve 147 (Line)\n",
      "Info    : [ 60%] Meshing curve 148 (Line)\n",
      "Info    : [ 60%] Meshing curve 149 (Line)\n",
      "Info    : [ 60%] Meshing curve 150 (Line)\n",
      "Info    : [ 60%] Meshing curve 151 (Line)\n",
      "Info    : [ 60%] Meshing curve 152 (Line)\n",
      "Info    : [ 70%] Meshing curve 153 (Line)\n",
      "Info    : [ 70%] Meshing curve 154 (Line)\n",
      "Info    : [ 70%] Meshing curve 155 (Line)\n",
      "Info    : [ 70%] Meshing curve 156 (Line)\n",
      "Info    : [ 70%] Meshing curve 157 (Line)\n",
      "Info    : [ 70%] Meshing curve 158 (Line)\n",
      "Info    : [ 70%] Meshing curve 159 (Line)\n",
      "Info    : [ 70%] Meshing curve 160 (Line)\n",
      "Info    : [ 80%] Meshing curve 161 (Line)\n",
      "Info    : [ 80%] Meshing curve 162 (Line)\n",
      "Info    : [ 80%] Meshing curve 163 (Line)\n",
      "Info    : [ 80%] Meshing curve 164 (Line)\n",
      "Info    : [ 80%] Meshing curve 165 (Line)\n",
      "Info    : [ 80%] Meshing curve 166 (Line)\n",
      "Info    : [ 80%] Meshing curve 167 (Line)\n",
      "Info    : [ 80%] Meshing curve 168 (Line)\n",
      "Info    : [ 80%] Meshing curve 169 (Line)\n",
      "Info    : [ 90%] Meshing curve 170 (Line)\n",
      "Info    : [ 90%] Meshing curve 171 (Line)\n",
      "Info    : [ 90%] Meshing curve 172 (Line)\n",
      "Info    : [ 90%] Meshing curve 173 (Line)\n",
      "Info    : [ 90%] Meshing curve 174 (Line)\n",
      "Info    : [ 90%] Meshing curve 175 (Line)\n",
      "Info    : [ 90%] Meshing curve 176 (Line)\n",
      "Info    : [ 90%] Meshing curve 177 (Line)\n",
      "Info    : [ 90%] Meshing curve 178 (Line)\n",
      "Info    : [100%] Meshing curve 179 (Line)\n",
      "Info    : Done meshing 1D (Wall 0.0930972s, CPU 0.418258s)\n",
      "Info    : Meshing 2D...\n",
      "Info    : [  0%] Meshing surface 1 (Plane, Frontal-Delaunay)\n",
      "Info    : [  0%] Meshing surface 3 (Plane, Frontal-Delaunay)\n",
      "Info    : [  0%] Meshing surface 5 (Plane, Frontal-Delaunay)\n",
      "Info    : [  0%] Meshing surface 7 (Plane, Frontal-Delaunay)\n",
      "Info    : [  0%] Meshing surface 10 (Plane, Frontal-Delaunay)\n",
      "Info    : [  0%] Meshing surface 8 (Plane, Frontal-Delaunay)\n",
      "Info    : [  0%] Meshing surface 11 (Plane, Frontal-Delaunay)\n",
      "Info    : [  0%] Meshing surface 12 (Plane, Frontal-Delaunay)\n",
      "Info    : [ 10%] Meshing surface 16 (Plane, Frontal-Delaunay)\n",
      "Info    : [ 10%] Meshing surface 29 (Plane, Frontal-Delaunay)\n",
      "Info    : [ 20%] Meshing surface 30 (Plane, Frontal-Delaunay)\n",
      "Info    : [ 20%] Meshing surface 31 (Plane, Frontal-Delaunay)\n",
      "Info    : [ 30%] Meshing surface 32 (Plane, Frontal-Delaunay)\n",
      "Info    : [ 30%] Meshing surface 33 (Plane, Frontal-Delaunay)\n",
      "Info    : [ 40%] Meshing surface 34 (Plane, Frontal-Delaunay)\n",
      "Info    : [ 40%] Meshing surface 35 (Plane, Frontal-Delaunay)\n",
      "Info    : [ 50%] Meshing surface 36 (Plane, Frontal-Delaunay)\n",
      "Info    : [ 50%] Meshing surface 37 (Plane, Frontal-Delaunay)\n",
      "Info    : [ 60%] Meshing surface 38 (Plane, Frontal-Delaunay)\n",
      "Info    : [ 60%] Meshing surface 39 (Plane, Frontal-Delaunay)\n",
      "Info    : [ 70%] Meshing surface 40 (Plane, Frontal-Delaunay)\n",
      "Info    : Done meshing 2D (Wall 8.43069s, CPU 37.0998s)\n",
      "Info    : Meshing 3D...\n",
      "Info    : 3D Meshing 2 volumes with 1 connected component\n",
      "Info    : Creating an empty mesh with 113158 vertices\n",
      "Info    : Initialization of tet. mesh\n",
      "Info    : Delaunay of     113154 points on   8 threads - mesh.nvert: 4         \n",
      "Info    : Recovering 2795 missing facet(s)\n",
      "Info    : Recover Delaunay\n",
      "Info    : All volumes of the BRep were found and colorized accordingly\n",
      "Info    : Computing mesh sizes...\n",
      "Info    : Done computing mesh sizes\n",
      "Info    : Delaunay of     335613 points on   8 threads - mesh.nvert: 113158    \n",
      "Info    :           -     314430 points filtered\n",
      "Info    :           =      21183 points added\n",
      "Info    : Computing mesh sizes...\n",
      "Info    : Done computing mesh sizes\n",
      "Info    : Delaunay of     305849 points on   8 threads - mesh.nvert: 134341    \n",
      "Info    :           -     258612 points filtered\n",
      "Info    :           =      47237 points added\n",
      "Info    : Computing mesh sizes...\n",
      "Info    : Done computing mesh sizes\n",
      "Info    : Delaunay of     262463 points on   8 threads - mesh.nvert: 181578    \n",
      "Info    :           -     193477 points filtered\n",
      "Info    :           =      68986 points added\n",
      "Info    : Computing mesh sizes...\n",
      "Info    : Done computing mesh sizes\n",
      "Info    : Delaunay of     198974 points on   8 threads - mesh.nvert: 250564    \n",
      "Info    :           -     137738 points filtered\n",
      "Info    :           =      61236 points added\n",
      "Info    : Computing mesh sizes...\n",
      "Info    : Done computing mesh sizes\n",
      "Info    : Delaunay of      59985 points on   8 threads - mesh.nvert: 311800    \n",
      "Info    :           -      35466 points filtered\n",
      "Info    :           =      24519 points added\n",
      "Info    : Computing mesh sizes...\n",
      "Info    : Done computing mesh sizes\n",
      "Info    : Delaunay of       7524 points on   2 threads - mesh.nvert: 336319    \n",
      "Info    :           -       2955 points filtered\n",
      "Info    :           =       4569 points added\n",
      "Info    : Computing mesh sizes...\n",
      "Info    : Done computing mesh sizes\n",
      "Info    : Delaunay of        568 points on   1 threads - mesh.nvert: 340888    \n",
      "Info    :           -        145 points filtered\n",
      "Info    :           =        423 points added\n",
      "Info    : Computing mesh sizes...\n",
      "Info    : Done computing mesh sizes\n",
      "Info    : Delaunay of         27 points on   1 threads - mesh.nvert: 341311    \n",
      "Info    :           -          6 points filtered\n",
      "Info    :           =         21 points added\n",
      "Info    : Computing mesh sizes...\n",
      "Info    : Done computing mesh sizes\n",
      "Info    : Improving     114520 tet. on   8 thrd (S & ER)\n",
      "Info    : Improving      42890 tet. on   8 thrd (S & ER)\n",
      "Info    : Improving      40847 tet. on   8 thrd (S & ER)\n",
      "Info    : Improving      40674 tet. on   8 thrd (GSC)\n",
      "Info    : Improving      40057 tet. on   8 thrd (S & ER)\n",
      "Info    : Improving      39992 tet. on   8 thrd (S & ER)\n",
      "Info    : Improving      39989 tet. on   8 thrd (GSC)\n",
      "Info    :  \tFinal tet. mesh contains 2050156 tetrahedra\n",
      "Info    :  \tFinal tet. mesh contains 341332 vertices\n",
      "Info    : tEmptyMesh  \t = \t    0.572\n",
      "Info    : tVerifyBnd  \t = \t    0.051\n",
      "Info    : tBndRecovery\t = \t    1.523\n",
      "Info    : tConvertMesh\t = \t    0.120\n",
      "Info    : tRefine     \t = \t    3.884\n",
      "Info    : tOptimize   \t = \t   13.733\n",
      "Info    : Done meshing 3D (Wall 20.3268s, CPU 107.577s)\n",
      "Info    : 341332 nodes 2189381 elements\n"
     ]
    }
   ],
   "source": [
    "# Render the design\n",
    "elmer_renderer.render_design(open_pins=[(\"Q1\", \"coupler1\"), (\"Q1\", \"coupler2\"), (\"Q1\", \"readout\")],\n",
    "                             skip_junctions=True)"
   ]
  },
  {
   "cell_type": "code",
   "execution_count": 9,
   "id": "43145408-a90f-4e75-921d-ca8eafd5ea7e",
   "metadata": {},
   "outputs": [
    {
     "name": "stdout",
     "output_type": "stream",
     "text": [
      "-------------------------------------------------------\n",
      "Version       : 4.10.3\n",
      "License       : GNU General Public License\n",
      "Build OS      : Linux64-sdk\n",
      "Build date    : 20220526\n",
      "Build host    : gmsh.info\n",
      "Build options : 64Bit ALGLIB[contrib] ANN[contrib] Bamg Blas[petsc] Blossom Cgns DIntegration Dlopen DomHex Eigen[contrib] Fltk Gmm[contrib] Hxt Jpeg Kbipack Lapack[petsc] LinuxJoystick MathEx[contrib] Med Mesh Metis[contrib] Mmg Mpeg Netgen ONELAB ONELABMetamodel OpenCASCADE OpenCASCADE-CAF OpenGL OpenMP OptHom PETSc Parser Plugins Png Post QuadMeshingTools QuadTri Solver TetGen/BR Voro++[contrib] WinslowUntangler Zlib\n",
      "FLTK version  : 1.4.0\n",
      "PETSc version : 3.14.4 (real arithmtic)\n",
      "OCC version   : 7.6.1\n",
      "MED version   : 4.1.0\n",
      "Packaged by   : geuzaine\n",
      "Web site      : https://gmsh.info\n",
      "Issue tracker : https://gitlab.onelab.info/gmsh/gmsh/issues\n",
      "-------------------------------------------------------\n"
     ]
    }
   ],
   "source": [
    "# View the generated mesh\n",
    "elmer_renderer.launch_gmsh_gui()"
   ]
  },
  {
   "cell_type": "code",
   "execution_count": 10,
   "id": "ab7e7c7a-9207-4943-bf0f-1d183a8d007c",
   "metadata": {},
   "outputs": [
    {
     "name": "stdout",
     "output_type": "stream",
     "text": [
      "Info    : Writing './out.msh'...\n",
      "Info    : Done writing './out.msh'\n"
     ]
    }
   ],
   "source": [
    "# Export the generated mesh\n",
    "elmer_renderer.export_mesh()"
   ]
  },
  {
   "cell_type": "code",
   "execution_count": 11,
   "id": "5cc8b22f-f281-45c3-a53a-f2a7c9a29fed",
   "metadata": {},
   "outputs": [],
   "source": [
    "# Add a solution setup to solve for the capacitance matrix\n",
    "elmer_renderer.add_solution_setup('capacitance')"
   ]
  },
  {
   "cell_type": "code",
   "execution_count": 12,
   "id": "020dc57e-d668-4d7b-b8fc-62fcceb6468d",
   "metadata": {},
   "outputs": [
    {
     "name": "stderr",
     "output_type": "stream",
     "text": [
      "11:01AM 48s INFO [run]: Running ElmerGrid on input mesh from Gmsh...\n",
      "11:01AM 50s INFO [run]: Running ElmerSolver for solver type: 'capacitance'\n"
     ]
    }
   ],
   "source": [
    "# Run the simulation in ElmerFEM\n",
    "elmer_renderer.run('capacitance')"
   ]
  },
  {
   "cell_type": "code",
   "execution_count": 13,
   "id": "b250b918-1cd7-429d-b015-92b114bf2594",
   "metadata": {},
   "outputs": [
    {
     "data": {
      "text/html": [
       "<div>\n",
       "<style scoped>\n",
       "    .dataframe tbody tr th:only-of-type {\n",
       "        vertical-align: middle;\n",
       "    }\n",
       "\n",
       "    .dataframe tbody tr th {\n",
       "        vertical-align: top;\n",
       "    }\n",
       "\n",
       "    .dataframe thead th {\n",
       "        text-align: right;\n",
       "    }\n",
       "</style>\n",
       "<table border=\"1\" class=\"dataframe\">\n",
       "  <thead>\n",
       "    <tr style=\"text-align: right;\">\n",
       "      <th></th>\n",
       "      <th>Q1_readout_connector_pad</th>\n",
       "      <th>Q1_coupler1_connector_pad</th>\n",
       "      <th>Q1_coupler2_connector_pad</th>\n",
       "      <th>Q1_pad_top</th>\n",
       "      <th>Q1_pad_bot</th>\n",
       "      <th>ground_plane</th>\n",
       "    </tr>\n",
       "  </thead>\n",
       "  <tbody>\n",
       "    <tr>\n",
       "      <th>Q1_readout_connector_pad</th>\n",
       "      <td>58.684061</td>\n",
       "      <td>-0.207751</td>\n",
       "      <td>-0.207891</td>\n",
       "      <td>-1.738512</td>\n",
       "      <td>-17.042738</td>\n",
       "      <td>-39.487168</td>\n",
       "    </tr>\n",
       "    <tr>\n",
       "      <th>Q1_coupler1_connector_pad</th>\n",
       "      <td>-0.207751</td>\n",
       "      <td>54.208860</td>\n",
       "      <td>-0.281858</td>\n",
       "      <td>-14.852005</td>\n",
       "      <td>-1.579939</td>\n",
       "      <td>-37.287306</td>\n",
       "    </tr>\n",
       "    <tr>\n",
       "      <th>Q1_coupler2_connector_pad</th>\n",
       "      <td>-0.207891</td>\n",
       "      <td>-0.281858</td>\n",
       "      <td>54.514793</td>\n",
       "      <td>-14.875394</td>\n",
       "      <td>-1.581328</td>\n",
       "      <td>-37.568322</td>\n",
       "    </tr>\n",
       "    <tr>\n",
       "      <th>Q1_pad_top</th>\n",
       "      <td>-1.738512</td>\n",
       "      <td>-14.852005</td>\n",
       "      <td>-14.875394</td>\n",
       "      <td>105.363752</td>\n",
       "      <td>-35.215269</td>\n",
       "      <td>-38.682572</td>\n",
       "    </tr>\n",
       "    <tr>\n",
       "      <th>Q1_pad_bot</th>\n",
       "      <td>-17.042738</td>\n",
       "      <td>-1.579939</td>\n",
       "      <td>-1.581328</td>\n",
       "      <td>-35.215269</td>\n",
       "      <td>99.501590</td>\n",
       "      <td>-44.082317</td>\n",
       "    </tr>\n",
       "    <tr>\n",
       "      <th>ground_plane</th>\n",
       "      <td>-39.487168</td>\n",
       "      <td>-37.287306</td>\n",
       "      <td>-37.568322</td>\n",
       "      <td>-38.682572</td>\n",
       "      <td>-44.082317</td>\n",
       "      <td>300.000000</td>\n",
       "    </tr>\n",
       "  </tbody>\n",
       "</table>\n",
       "</div>"
      ],
      "text/plain": [
       "                           Q1_readout_connector_pad  \\\n",
       "Q1_readout_connector_pad                  58.684061   \n",
       "Q1_coupler1_connector_pad                 -0.207751   \n",
       "Q1_coupler2_connector_pad                 -0.207891   \n",
       "Q1_pad_top                                -1.738512   \n",
       "Q1_pad_bot                               -17.042738   \n",
       "ground_plane                             -39.487168   \n",
       "\n",
       "                           Q1_coupler1_connector_pad  \\\n",
       "Q1_readout_connector_pad                   -0.207751   \n",
       "Q1_coupler1_connector_pad                  54.208860   \n",
       "Q1_coupler2_connector_pad                  -0.281858   \n",
       "Q1_pad_top                                -14.852005   \n",
       "Q1_pad_bot                                 -1.579939   \n",
       "ground_plane                              -37.287306   \n",
       "\n",
       "                           Q1_coupler2_connector_pad  Q1_pad_top  Q1_pad_bot  \\\n",
       "Q1_readout_connector_pad                   -0.207891   -1.738512  -17.042738   \n",
       "Q1_coupler1_connector_pad                  -0.281858  -14.852005   -1.579939   \n",
       "Q1_coupler2_connector_pad                  54.514793  -14.875394   -1.581328   \n",
       "Q1_pad_top                                -14.875394  105.363752  -35.215269   \n",
       "Q1_pad_bot                                 -1.581328  -35.215269   99.501590   \n",
       "ground_plane                              -37.568322  -38.682572  -44.082317   \n",
       "\n",
       "                           ground_plane  \n",
       "Q1_readout_connector_pad     -39.487168  \n",
       "Q1_coupler1_connector_pad    -37.287306  \n",
       "Q1_coupler2_connector_pad    -37.568322  \n",
       "Q1_pad_top                   -38.682572  \n",
       "Q1_pad_bot                   -44.082317  \n",
       "ground_plane                 300.000000  "
      ]
     },
     "execution_count": 13,
     "metadata": {},
     "output_type": "execute_result"
    }
   ],
   "source": [
    "# Display the capacitnce matrix obtained after the simulation\n",
    "elmer_renderer.capacitance_matrix"
   ]
  },
  {
   "cell_type": "code",
   "execution_count": 14,
   "id": "aaafb8f2-f920-4d38-8e0f-9352b9015e69",
   "metadata": {},
   "outputs": [
    {
     "name": "stdout",
     "output_type": "stream",
     "text": [
      "Info    : Clearing all models and views...\n",
      "Info    : Done clearing all models and views\n"
     ]
    }
   ],
   "source": [
    "elmer_renderer.save_capacitance_matrix(\"cap_matrix.txt\")\n",
    "elmer_renderer.close()"
   ]
  },
  {
   "cell_type": "code",
   "execution_count": 15,
   "id": "b20674ae-918f-4aa7-b4f7-1a337ae714a5",
   "metadata": {},
   "outputs": [
    {
     "data": {
      "text/html": [
       "\n",
       "    <h1 style=\"\n",
       "        background: #12c2e9;  /* fallback for old browsers */\n",
       "        background: -webkit-linear-gradient(to right, #d4418e 0%, #0652c5 74%);  /* Chrome 10-25, Safari 5.1-6 */\n",
       "        background: linear-gradient(315deg, #d4418e 0%, #0652c5 74%); /* W3C, IE 10+/ Edge, Firefox 16+, Chrome 26+, Opera 12+, Safari 7+ */\n",
       "        margin-top: 50px;\n",
       "        border-style: outset;\n",
       "        padding-top:100px;\n",
       "        padding-bottom:50px;\n",
       "        padding-left:25px;\n",
       "        color: white;\n",
       "    \"> Perform LOM 2.0 Analysis <h1>\n",
       "        "
      ],
      "text/plain": [
       "<IPython.core.display.HTML object>"
      ]
     },
     "metadata": {},
     "output_type": "display_data"
    }
   ],
   "source": [
    "%metal_heading Perform LOM 2.0 Analysis"
   ]
  },
  {
   "cell_type": "code",
   "execution_count": 16,
   "id": "603f8d95-ac34-40e0-9574-53d0f6cde2b8",
   "metadata": {},
   "outputs": [
    {
     "name": "stderr",
     "output_type": "stream",
     "text": [
      "11:03AM 24s INFO [__init__]: TransmonBuilder with system_type TRANSMON registered to QuantumSystemRegistry\n",
      "11:03AM 24s INFO [__init__]: FluxoniumBuilder with system_type FLUXONIUM registered to QuantumSystemRegistry\n",
      "11:03AM 24s INFO [__init__]: TLResonatorBuilder with system_type TL_RESONATOR registered to QuantumSystemRegistry\n",
      "11:03AM 24s INFO [__init__]: LumpedResonatorBuilder with system_type LUMPED_RESONATOR registered to QuantumSystemRegistry\n"
     ]
    }
   ],
   "source": [
    "import numpy as np\n",
    "\n",
    "from qiskit_metal.renderers.renderer_elmer.elmer_renderer import load_capacitance_matrix_from_file\n",
    "from qiskit_metal.analyses.quantization.lom_core_analysis import CompositeSystem, Cell, Subsystem \n",
    "\n",
    "from scipy.constants import speed_of_light as c_light\n",
    "\n",
    "import matplotlib.pyplot as plt\n",
    "%matplotlib inline"
   ]
  },
  {
   "cell_type": "code",
   "execution_count": 17,
   "id": "cf3df357-f1fe-4bd0-9510-02fd7e2a55bf",
   "metadata": {},
   "outputs": [],
   "source": [
    "cap_matrix = load_capacitance_matrix_from_file(\"cap_matrix.txt\")"
   ]
  },
  {
   "cell_type": "code",
   "execution_count": 18,
   "id": "9705e531-ef68-4b6b-bbc6-6a8b69ba0a12",
   "metadata": {},
   "outputs": [],
   "source": [
    "# Define cells\n",
    "opt1 = dict(\n",
    "    node_rename = {'Q1_coupler1_connector_pad': 'coupler1', 'Q1_coupler2_connector_pad': 'coupler2', 'Q1_readout_connector_pad': 'readout'}, \n",
    "    cap_mat = cap_matrix,\n",
    "    ind_dict = {('Q1_pad_top', 'Q1_pad_bot'): 12},  # junction inductance in nH\n",
    "    jj_dict = {('Q1_pad_top', 'Q1_pad_bot'): 'j1'},\n",
    "    cj_dict = {('Q1_pad_top', 'Q1_pad_bot'): 2}, # junction capacitance in fF\n",
    ")\n",
    "cell_1 = Cell(opt1)"
   ]
  },
  {
   "cell_type": "code",
   "execution_count": 19,
   "id": "d5c8c296-13f9-4ec9-8daf-96f2f882b923",
   "metadata": {},
   "outputs": [],
   "source": [
    "# Define subsystems\n",
    "# subsystem 1: Transmon\n",
    "transmon = Subsystem(name='transmon1_sys', sys_type='TRANSMON', nodes=['j1'])\n",
    "\n",
    "# subsystem 2: Coupler 1\n",
    "q_opts = dict(\n",
    "    f_res = 7.4, # resonator dressed frequency in GHz\n",
    "    Z0 = 50, # characteristic impedance in Ohm\n",
    "    vp = 0.404314 * c_light # phase velocity \n",
    ")\n",
    "coup1 = Subsystem(name='coup1_sys', sys_type='TL_RESONATOR', nodes=['coupler1'], q_opts=q_opts)\n",
    "\n",
    "# subsystem 3: Coupler 2\n",
    "q_opts = dict(\n",
    "    f_res = 7.2, # resonator dressed frequency in GHz\n",
    "    Z0 = 50, # characteristic impedance in Ohm\n",
    "    vp = 0.404314 * c_light # phase velocity \n",
    ")\n",
    "coup2 = Subsystem(name='coup2_sys', sys_type='TL_RESONATOR', nodes=['coupler2'], q_opts=q_opts)\n",
    "\n",
    "# subsystem 4: Readout\n",
    "q_opts = dict(\n",
    "    f_res = 7, # resonator dressed frequency in GHz\n",
    "    Z0 = 50, # characteristic impedance in Ohm\n",
    "    vp = 0.404314 * c_light # phase velocity \n",
    ")\n",
    "readout = Subsystem(name='readout_sys', sys_type='TL_RESONATOR', nodes=['readout'], q_opts=q_opts)"
   ]
  },
  {
   "cell_type": "code",
   "execution_count": 20,
   "id": "4f44c894-aa2b-4632-b513-da391f101b93",
   "metadata": {},
   "outputs": [],
   "source": [
    "composite_sys = CompositeSystem(\n",
    "    subsystems=[transmon, coup1, coup2, readout], \n",
    "    cells=[cell_1], \n",
    "    grd_node='ground_plane',\n",
    "    nodes_force_keep=['coupler1', 'coupler2', 'readout']\n",
    ")"
   ]
  },
  {
   "cell_type": "code",
   "execution_count": 21,
   "id": "86f39d01-c88f-4300-987f-0384703daf61",
   "metadata": {},
   "outputs": [
    {
     "name": "stdout",
     "output_type": "stream",
     "text": [
      "node_jj_basis:\n",
      "-------------\n",
      "\n",
      "['j1', 'Q1_pad_bot', 'coupler1', 'coupler2', 'readout']\n",
      "\n",
      "nodes_keep:\n",
      "-------------\n",
      "\n",
      "['j1', 'coupler1', 'coupler2', 'readout']\n",
      "\n",
      "\n",
      "L_inv_k (reduced inverse inductance matrix):\n",
      "-------------\n",
      "\n",
      "                j1  coupler1  coupler2  readout\n",
      "j1        0.083333       0.0       0.0      0.0\n",
      "coupler1  0.000000       0.0       0.0      0.0\n",
      "coupler2  0.000000       0.0       0.0      0.0\n",
      "readout   0.000000       0.0       0.0      0.0\n",
      "\n",
      "C_k (reduced capacitance matrix):\n",
      "-------------\n",
      "\n",
      "                 j1   coupler1   coupler2    readout\n",
      "j1        70.760064  -6.277767  -6.288227   8.061600\n",
      "coupler1  -6.277767  52.200386  -2.293361  -2.503380\n",
      "coupler2  -6.288227  -2.293361  52.500257  -2.506982\n",
      "readout    8.061600  -2.503380  -2.506982  56.060221\n",
      "\n",
      "\n"
     ]
    }
   ],
   "source": [
    "cg = composite_sys.circuitGraph()\n",
    "print(cg)"
   ]
  },
  {
   "cell_type": "code",
   "execution_count": 22,
   "id": "19fee4da-5659-4b3b-ad29-182565ee8933",
   "metadata": {},
   "outputs": [
    {
     "name": "stderr",
     "output_type": "stream",
     "text": [
      "WARNING:py.warnings:RuntimeWarning: divide by zero encountered in double_scalars\n",
      " /home/abeerv/Documents/coding/qiskit-metal/qiskit_metal/analyses/quantization/lom_core_analysis.py: 170\n",
      "WARNING:py.warnings:RuntimeWarning: divide by zero encountered in double_scalars\n",
      " /home/abeerv/Documents/coding/qiskit-metal/qiskit_metal/analyses/quantization/lom_core_analysis.py: 170\n",
      "WARNING:py.warnings:RuntimeWarning: divide by zero encountered in double_scalars\n",
      " /home/abeerv/Documents/coding/qiskit-metal/qiskit_metal/analyses/quantization/lom_core_analysis.py: 170\n"
     ]
    },
    {
     "name": "stdout",
     "output_type": "stream",
     "text": [
      "HilbertSpace:  subsystems\n",
      "-------------------------\n",
      "\n",
      "Transmon------------| [Transmon_1]\n",
      "                    | EJ: 13621.792733898432\n",
      "                    | EC: 284.05043715960124\n",
      "                    | ng: 0.001\n",
      "                    | ncut: 22\n",
      "                    | truncated_dim: 10\n",
      "                    |\n",
      "                    | dim: 45\n",
      "\n",
      "\n",
      "Oscillator----------| [Oscillator_1]\n",
      "                    | E_osc: 7400.0\n",
      "                    | l_osc: None\n",
      "                    | truncated_dim: 3\n",
      "                    |\n",
      "                    | dim: 3\n",
      "\n",
      "\n",
      "Oscillator----------| [Oscillator_2]\n",
      "                    | E_osc: 7200.0\n",
      "                    | l_osc: None\n",
      "                    | truncated_dim: 3\n",
      "                    |\n",
      "                    | dim: 3\n",
      "\n",
      "\n",
      "Oscillator----------| [Oscillator_3]\n",
      "                    | E_osc: 7000\n",
      "                    | l_osc: None\n",
      "                    | truncated_dim: 3\n",
      "                    |\n",
      "                    | dim: 3\n",
      "\n",
      "\n"
     ]
    }
   ],
   "source": [
    "hilbertspace = composite_sys.create_hilbertspace()\n",
    "print(hilbertspace)"
   ]
  },
  {
   "cell_type": "code",
   "execution_count": 23,
   "id": "c18d596f-1778-4bf1-852c-6a3c7c8dc927",
   "metadata": {},
   "outputs": [
    {
     "name": "stderr",
     "output_type": "stream",
     "text": [
      "WARNING:py.warnings:RuntimeWarning: divide by zero encountered in double_scalars\n",
      " /home/abeerv/Documents/coding/qiskit-metal/qiskit_metal/analyses/quantization/lom_core_analysis.py: 170\n",
      "WARNING:py.warnings:RuntimeWarning: divide by zero encountered in double_scalars\n",
      " /home/abeerv/Documents/coding/qiskit-metal/qiskit_metal/analyses/quantization/lom_core_analysis.py: 170\n",
      "WARNING:py.warnings:RuntimeWarning: divide by zero encountered in double_scalars\n",
      " /home/abeerv/Documents/coding/qiskit-metal/qiskit_metal/analyses/quantization/lom_core_analysis.py: 170\n"
     ]
    },
    {
     "data": {
      "text/latex": [
       "Quantum object: dims = [[10, 3, 3, 3], [10, 3, 3, 3]], shape = (270, 270), type = oper, isherm = True\\begin{equation*}\\left(\\begin{array}{*{11}c}-1.091\\times10^{+04} & 0.093j & 0.0 & -0.080j & -9.381 & \\cdots & 0.0 & 0.0 & 0.0 & 0.0 & 0.0\\\\-0.093j & -3.913\\times10^{+03} & 0.131j & 9.381 & -0.080j & \\cdots & 0.0 & 0.0 & 0.0 & 0.0 & 0.0\\\\0.0 & -0.131j & 3.087\\times10^{+03} & 0.0 & 13.266 & \\cdots & 0.0 & 0.0 & 0.0 & 0.0 & 0.0\\\\0.080j & 9.381 & 0.0 & -3.713\\times10^{+03} & 0.093j & \\cdots & 0.0 & 0.0 & 0.0 & 0.0 & 0.0\\\\-9.381 & 0.080j & 13.266 & -0.093j & 3.287\\times10^{+03} & \\cdots & 0.0 & 0.0 & 0.0 & 0.0 & 0.0\\\\\\vdots & \\vdots & \\vdots & \\vdots & \\vdots & \\ddots & \\vdots & \\vdots & \\vdots & \\vdots & \\vdots\\\\0.0 & 0.0 & 0.0 & 0.0 & 0.0 & \\cdots & 5.824\\times10^{+04} & 636.252j & 13.266 & -548.242j & -18.761\\\\0.0 & 0.0 & 0.0 & 0.0 & 0.0 & \\cdots & -636.252j & 6.524\\times10^{+04} & 0.0 & 18.761 & -548.242j\\\\0.0 & 0.0 & 0.0 & 0.0 & 0.0 & \\cdots & 13.266 & 0.0 & 5.844\\times10^{+04} & 449.898j & 0.0\\\\0.0 & 0.0 & 0.0 & 0.0 & 0.0 & \\cdots & 548.242j & 18.761 & -449.898j & 6.544\\times10^{+04} & 636.252j\\\\0.0 & 0.0 & 0.0 & 0.0 & 0.0 & \\cdots & -18.761 & 548.242j & 0.0 & -636.252j & 7.244\\times10^{+04}\\\\\\end{array}\\right)\\end{equation*}"
      ],
      "text/plain": [
       "Quantum object: dims = [[10, 3, 3, 3], [10, 3, 3, 3]], shape = (270, 270), type = oper, isherm = True\n",
       "Qobj data =\n",
       "[[-10912.9500518 +0.00000000e+00j      0.        +9.29573831e-02j\n",
       "       0.        +0.00000000e+00j ...      0.        +0.00000000e+00j\n",
       "       0.        +0.00000000e+00j      0.        +0.00000000e+00j]\n",
       " [     0.        -9.29573831e-02j  -3912.9500518 +0.00000000e+00j\n",
       "       0.        +1.31461592e-01j ...      0.        +0.00000000e+00j\n",
       "       0.        +0.00000000e+00j      0.        +0.00000000e+00j]\n",
       " [     0.        +0.00000000e+00j      0.        -1.31461592e-01j\n",
       "    3087.0499482 +0.00000000e+00j ...      0.        +0.00000000e+00j\n",
       "       0.        +0.00000000e+00j      0.        +0.00000000e+00j]\n",
       " ...\n",
       " [     0.        +0.00000000e+00j      0.        +0.00000000e+00j\n",
       "       0.        +0.00000000e+00j ...  58435.87888161+0.00000000e+00j\n",
       "       0.        +4.49897978e+02j      0.        +0.00000000e+00j]\n",
       " [     0.        +0.00000000e+00j      0.        +0.00000000e+00j\n",
       "       0.        +0.00000000e+00j ...      0.        -4.49897978e+02j\n",
       "   65435.87888161+0.00000000e+00j      0.        +6.36251823e+02j]\n",
       " [     0.        +0.00000000e+00j      0.        +0.00000000e+00j\n",
       "       0.        +0.00000000e+00j ...      0.        +0.00000000e+00j\n",
       "       0.        -6.36251823e+02j  72435.87888161+0.00000000e+00j]]"
      ]
     },
     "execution_count": 23,
     "metadata": {},
     "output_type": "execute_result"
    }
   ],
   "source": [
    "hilbertspace = composite_sys.add_interaction()\n",
    "hilbertspace.hamiltonian()"
   ]
  },
  {
   "cell_type": "code",
   "execution_count": 24,
   "id": "b4c2cdfb-6ede-46eb-bbaf-c19f75b9a5d5",
   "metadata": {},
   "outputs": [
    {
     "name": "stdout",
     "output_type": "stream",
     "text": [
      "\n",
      "system frequencies in GHz:\n",
      "--------------------------\n",
      "{'transmon1_sys': 5.247600222577874, 'coup1_sys': 7.404753940653035, 'coup2_sys': 7.201632111026363, 'readout_sys': 7.004729558275996}\n",
      "\n",
      "Chi matrices in MHz\n",
      "--------------------------\n",
      "               transmon1_sys  coup1_sys  coup2_sys  readout_sys\n",
      "transmon1_sys    -322.260345  -1.464554  -1.098688    -2.508974\n",
      "coup1_sys          -1.464554   1.872002   0.058791    -0.005386\n",
      "coup2_sys          -1.098688   0.058791   1.810844    -0.000021\n",
      "readout_sys        -2.508974  -0.005386  -0.000021     2.471589\n"
     ]
    }
   ],
   "source": [
    "hamiltonian_results = composite_sys.hamiltonian_results(hilbertspace, evals_count=30)"
   ]
  },
  {
   "cell_type": "code",
   "execution_count": 25,
   "id": "1ffdde51-974e-4564-b107-81b577ebf55d",
   "metadata": {},
   "outputs": [
    {
     "data": {
      "text/plain": [
       "                 j1   coupler1   coupler2    readout\n",
       "j1         0.000000  82.151909  80.099124 -92.957572\n",
       "coupler1  82.151909   0.000000  15.243893   9.623917\n",
       "coupler2  80.099124  15.243893   0.000000   9.380654\n",
       "readout  -92.957572   9.623917   9.380654   0.000000"
      ]
     },
     "execution_count": 25,
     "metadata": {},
     "output_type": "execute_result"
    }
   ],
   "source": [
    "composite_sys.compute_gs()"
   ]
  },
  {
   "cell_type": "code",
   "execution_count": 26,
   "id": "963212c4-b31f-48c0-ac56-0058e477b9e0",
   "metadata": {},
   "outputs": [
    {
     "data": {
      "text/plain": [
       "defaultdict(dict,\n",
       "            {'j1': {'EJ': 13621.792733898432,\n",
       "              'EC': 284.05043715960124,\n",
       "              'Q_zpf': 3.204353268e-19,\n",
       "              'default_charge_op': Operator(op=array([[-22,   0,   0, ...,   0,   0,   0],\n",
       "                     [  0, -21,   0, ...,   0,   0,   0],\n",
       "                     [  0,   0, -20, ...,   0,   0,   0],\n",
       "                     ...,\n",
       "                     [  0,   0,   0, ...,  20,   0,   0],\n",
       "                     [  0,   0,   0, ...,   0,  21,   0],\n",
       "                     [  0,   0,   0, ...,   0,   0,  22]]), add_hc=False)}})"
      ]
     },
     "execution_count": 26,
     "metadata": {},
     "output_type": "execute_result"
    }
   ],
   "source": [
    "transmon.h_params"
   ]
  },
  {
   "cell_type": "code",
   "execution_count": 28,
   "id": "44627014-50d7-4f5c-b873-c7c438d6c6da",
   "metadata": {},
   "outputs": [
    {
     "data": {
      "text/plain": [
       "True"
      ]
     },
     "execution_count": 28,
     "metadata": {},
     "output_type": "execute_result"
    }
   ],
   "source": [
    "gui.main_window.close()"
   ]
  },
  {
   "cell_type": "code",
   "execution_count": null,
   "id": "9c3428fa-7009-451d-9032-a54ecf888791",
   "metadata": {},
   "outputs": [],
   "source": []
  }
 ],
 "metadata": {
  "kernelspec": {
   "display_name": "Python 3 (ipykernel)",
   "language": "python",
   "name": "python3"
  },
  "language_info": {
   "codemirror_mode": {
    "name": "ipython",
    "version": 3
   },
   "file_extension": ".py",
   "mimetype": "text/x-python",
   "name": "python",
   "nbconvert_exporter": "python",
   "pygments_lexer": "ipython3",
   "version": "3.9.7"
  }
 },
 "nbformat": 4,
 "nbformat_minor": 5
}
