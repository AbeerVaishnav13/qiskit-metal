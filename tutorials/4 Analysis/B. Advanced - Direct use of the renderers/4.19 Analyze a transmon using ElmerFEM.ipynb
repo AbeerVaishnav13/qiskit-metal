{
 "cells": [
  {
   "cell_type": "code",
   "execution_count": 1,
   "id": "1f0a2bd1-c3fe-44ab-99dc-3a0144e8e621",
   "metadata": {},
   "outputs": [],
   "source": [
    "%load_ext autoreload\n",
    "%autoreload 2"
   ]
  },
  {
   "cell_type": "code",
   "execution_count": 2,
   "id": "1a045408-2634-4e53-ac30-1cb825d6a4ff",
   "metadata": {},
   "outputs": [],
   "source": [
    "from qiskit_metal import MetalGUI, designs\n",
    "from qiskit_metal.qlibrary.qubits.transmon_pocket_6 import TransmonPocket6"
   ]
  },
  {
   "cell_type": "code",
   "execution_count": 3,
   "id": "a76242c0-3b42-4157-bbcb-a99b3c47937a",
   "metadata": {},
   "outputs": [
    {
     "data": {
      "text/html": [
       "\n",
       "    <h1 style=\"\n",
       "        background: #12c2e9;  /* fallback for old browsers */\n",
       "        background: -webkit-linear-gradient(to right, #d4418e 0%, #0652c5 74%);  /* Chrome 10-25, Safari 5.1-6 */\n",
       "        background: linear-gradient(315deg, #d4418e 0%, #0652c5 74%); /* W3C, IE 10+/ Edge, Firefox 16+, Chrome 26+, Opera 12+, Safari 7+ */\n",
       "        margin-top: 50px;\n",
       "        border-style: outset;\n",
       "        padding-top:100px;\n",
       "        padding-bottom:50px;\n",
       "        padding-left:25px;\n",
       "        color: white;\n",
       "    \"> Create a Transmon Qubit in Qiskit Metal <h1>\n",
       "        "
      ],
      "text/plain": [
       "<IPython.core.display.HTML object>"
      ]
     },
     "metadata": {},
     "output_type": "display_data"
    }
   ],
   "source": [
    "%metal_heading Create a Transmon Qubit in Qiskit Metal"
   ]
  },
  {
   "cell_type": "code",
   "execution_count": 4,
   "id": "31a7b793-64a5-44c6-9176-718f9b7c1c66",
   "metadata": {},
   "outputs": [],
   "source": [
    "design = designs.DesignPlanar({}, True)\n",
    "gui = MetalGUI(design)"
   ]
  },
  {
   "cell_type": "code",
   "execution_count": 5,
   "id": "dd65f18a-bab4-4b84-bd60-a23c04aaf413",
   "metadata": {},
   "outputs": [],
   "source": [
    "conn_pads = dict(\n",
    "    connection_pads = dict(\n",
    "        readout = dict(loc_W=0, loc_H=-1),\n",
    "        coupler1 = dict(loc_W=-1, loc_H=1),\n",
    "        coupler2 = dict(loc_W=1, loc_H=1)\n",
    "    )\n",
    ")\n",
    "q1 = TransmonPocket6(design, \"Q1\", options=dict(**conn_pads))\n",
    "\n",
    "gui.rebuild()\n",
    "gui.autoscale()"
   ]
  },
  {
   "cell_type": "code",
   "execution_count": 6,
   "id": "88883f88-342e-449c-a1ce-c253a28c0145",
   "metadata": {},
   "outputs": [
    {
     "data": {
      "text/html": [
       "\n",
       "    <h1 style=\"\n",
       "        background: #12c2e9;  /* fallback for old browsers */\n",
       "        background: -webkit-linear-gradient(to right, #d4418e 0%, #0652c5 74%);  /* Chrome 10-25, Safari 5.1-6 */\n",
       "        background: linear-gradient(315deg, #d4418e 0%, #0652c5 74%); /* W3C, IE 10+/ Edge, Firefox 16+, Chrome 26+, Opera 12+, Safari 7+ */\n",
       "        margin-top: 50px;\n",
       "        border-style: outset;\n",
       "        padding-top:100px;\n",
       "        padding-bottom:50px;\n",
       "        padding-left:25px;\n",
       "        color: white;\n",
       "    \"> Render your design in QElmerRenderer <h1>\n",
       "        "
      ],
      "text/plain": [
       "<IPython.core.display.HTML object>"
      ]
     },
     "metadata": {},
     "output_type": "display_data"
    }
   ],
   "source": [
    "%metal_heading Render your design in QElmerRenderer"
   ]
  },
  {
   "cell_type": "code",
   "execution_count": 7,
   "id": "8c2f7a6a-f6ed-4892-96c3-a62f866ef37c",
   "metadata": {},
   "outputs": [],
   "source": [
    "from qiskit_metal.renderers.renderer_elmer.elmer_renderer import QElmerRenderer\n",
    "\n",
    "# Instantiate the Elmer renderer\n",
    "elmer_renderer = QElmerRenderer(design)\n",
    "\n",
    "# Elmer renderer uses the Gmsh renderer to\n",
    "# generate a mesh for the design\n",
    "# Set initial parameters for meshing in Gmsh (IMPORTANT step!!)\n",
    "elmer_renderer.gmsh.options.mesh.min_size = \"3um\"\n",
    "elmer_renderer.gmsh.options.mesh.max_size = \"30um\""
   ]
  },
  {
   "cell_type": "code",
   "execution_count": 8,
   "id": "f1728ac8-f95d-4a19-9e9a-ec8d7a57d822",
   "metadata": {
    "scrolled": true,
    "tags": []
   },
   "outputs": [
    {
     "name": "stdout",
     "output_type": "stream",
     "text": [
      "Info    : Meshing 1D...\n",
      "Info    : [  0%] Meshing curve 3 (Line)\n",
      "Info    : [  0%] Meshing curve 43 (Line)\n",
      "Info    : [  0%] Meshing curve 2 (Line)\n",
      "Info    : [  0%] Meshing curve 41 (Line)\n",
      "Info    : [  0%] Meshing curve 44 (Line)\n",
      "Info    : [  0%] Meshing curve 42 (Line)\n",
      "Info    : [  0%] Meshing curve 1 (Line)\n",
      "Info    : [  0%] Meshing curve 4 (Line)\n",
      "Info    : [ 10%] Meshing curve 45 (Line)\n",
      "Info    : [ 10%] Meshing curve 46 (Line)\n",
      "Info    : [ 10%] Meshing curve 47 (Line)\n",
      "Info    : [ 10%] Meshing curve 48 (Line)\n",
      "Info    : [ 10%] Meshing curve 105 (Line)\n",
      "Info    : [ 10%] Meshing curve 107 (Line)\n",
      "Info    : [ 10%] Meshing curve 106 (Line)\n",
      "Info    : [ 10%] Meshing curve 108 (Line)\n",
      "Info    : [ 20%] Meshing curve 109 (Line)\n",
      "Info    : [ 20%] Meshing curve 110 (Line)\n",
      "Info    : [ 20%] Meshing curve 111 (Line)\n",
      "Info    : [ 20%] Meshing curve 112 (Line)\n",
      "Info    : [ 20%] Meshing curve 113 (Line)\n",
      "Info    : [ 20%] Meshing curve 114 (Line)\n",
      "Info    : [ 20%] Meshing curve 115 (Line)\n",
      "Info    : [ 20%] Meshing curve 116 (Line)\n",
      "Info    : [ 20%] Meshing curve 117 (Line)\n",
      "Info    : [ 30%] Meshing curve 118 (Line)\n",
      "Info    : [ 30%] Meshing curve 119 (Line)\n",
      "Info    : [ 30%] Meshing curve 120 (Line)\n",
      "Info    : [ 30%] Meshing curve 121 (Line)\n",
      "Info    : [ 30%] Meshing curve 122 (Line)\n",
      "Info    : [ 30%] Meshing curve 123 (Line)\n",
      "Info    : [ 30%] Meshing curve 124 (Line)\n",
      "Info    : [ 30%] Meshing curve 125 (Line)\n",
      "Info    : [ 30%] Meshing curve 126 (Line)\n",
      "Info    : [ 40%] Meshing curve 127 (Line)\n",
      "Info    : [ 40%] Meshing curve 128 (Line)\n",
      "Info    : [ 40%] Meshing curve 129 (Line)\n",
      "Info    : [ 40%] Meshing curve 130 (Line)\n",
      "Info    : [ 40%] Meshing curve 131 (Line)\n",
      "Info    : [ 40%] Meshing curve 132 (Line)\n",
      "Info    : [ 40%] Meshing curve 133 (Line)\n",
      "Info    : [ 40%] Meshing curve 134 (Line)\n",
      "Info    : [ 50%] Meshing curve 135 (Line)\n",
      "Info    : [ 50%] Meshing curve 136 (Line)\n",
      "Info    : [ 50%] Meshing curve 137 (Line)\n",
      "Info    : [ 50%] Meshing curve 138 (Line)\n",
      "Info    : [ 50%] Meshing curve 139 (Line)\n",
      "Info    : [ 50%] Meshing curve 140 (Line)\n",
      "Info    : [ 50%] Meshing curve 141 (Line)\n",
      "Info    : [ 50%] Meshing curve 142 (Line)\n",
      "Info    : [ 50%] Meshing curve 143 (Line)\n",
      "Info    : [ 60%] Meshing curve 144 (Line)\n",
      "Info    : [ 60%] Meshing curve 145 (Line)\n",
      "Info    : [ 60%] Meshing curve 146 (Line)\n",
      "Info    : [ 60%] Meshing curve 147 (Line)\n",
      "Info    : [ 60%] Meshing curve 148 (Line)\n",
      "Info    : [ 60%] Meshing curve 149 (Line)\n",
      "Info    : [ 60%] Meshing curve 150 (Line)\n",
      "Info    : [ 60%] Meshing curve 151 (Line)\n",
      "Info    : [ 60%] Meshing curve 152 (Line)\n",
      "Info    : [ 70%] Meshing curve 153 (Line)\n",
      "Info    : [ 70%] Meshing curve 154 (Line)\n",
      "Info    : [ 70%] Meshing curve 155 (Line)\n",
      "Info    : [ 70%] Meshing curve 156 (Line)\n",
      "Info    : [ 70%] Meshing curve 157 (Line)\n",
      "Info    : [ 70%] Meshing curve 158 (Line)\n",
      "Info    : [ 70%] Meshing curve 159 (Line)\n",
      "Info    : [ 70%] Meshing curve 160 (Line)\n",
      "Info    : [ 80%] Meshing curve 161 (Line)\n",
      "Info    : [ 80%] Meshing curve 162 (Line)\n",
      "Info    : [ 80%] Meshing curve 163 (Line)\n",
      "Info    : [ 80%] Meshing curve 164 (Line)\n",
      "Info    : [ 80%] Meshing curve 165 (Line)\n",
      "Info    : [ 80%] Meshing curve 166 (Line)\n",
      "Info    : [ 80%] Meshing curve 167 (Line)\n",
      "Info    : [ 80%] Meshing curve 168 (Line)\n",
      "Info    : [ 80%] Meshing curve 169 (Line)\n",
      "Info    : [ 90%] Meshing curve 170 (Line)\n",
      "Info    : [ 90%] Meshing curve 171 (Line)\n",
      "Info    : [ 90%] Meshing curve 172 (Line)\n",
      "Info    : [ 90%] Meshing curve 173 (Line)\n",
      "Info    : [ 90%] Meshing curve 174 (Line)\n",
      "Info    : [ 90%] Meshing curve 175 (Line)\n",
      "Info    : [ 90%] Meshing curve 176 (Line)\n",
      "Info    : [ 90%] Meshing curve 177 (Line)\n",
      "Info    : [ 90%] Meshing curve 178 (Line)\n",
      "Info    : [100%] Meshing curve 179 (Line)\n",
      "Info    : Done meshing 1D (Wall 0.100413s, CPU 0.436768s)\n",
      "Info    : Meshing 2D...\n",
      "Info    : [  0%] Meshing surface 12 (Plane, Frontal-Delaunay)\n",
      "Info    : [  0%] Meshing surface 8 (Plane, Frontal-Delaunay)\n",
      "Info    : [  0%] Meshing surface 5 (Plane, Frontal-Delaunay)\n",
      "Info    : [  0%] Meshing surface 7 (Plane, Frontal-Delaunay)\n",
      "Info    : [  0%] Meshing surface 3 (Plane, Frontal-Delaunay)\n",
      "Info    : [  0%] Meshing surface 1 (Plane, Frontal-Delaunay)\n",
      "Info    : [  0%] Meshing surface 11 (Plane, Frontal-Delaunay)\n",
      "Info    : [  0%] Meshing surface 10 (Plane, Frontal-Delaunay)\n",
      "Info    : [ 10%] Meshing surface 16 (Plane, Frontal-Delaunay)\n",
      "Info    : [ 10%] Meshing surface 29 (Plane, Frontal-Delaunay)\n",
      "Info    : [ 20%] Meshing surface 30 (Plane, Frontal-Delaunay)\n",
      "Info    : [ 20%] Meshing surface 31 (Plane, Frontal-Delaunay)\n",
      "Info    : [ 30%] Meshing surface 32 (Plane, Frontal-Delaunay)\n",
      "Info    : [ 30%] Meshing surface 33 (Plane, Frontal-Delaunay)\n",
      "Info    : [ 40%] Meshing surface 34 (Plane, Frontal-Delaunay)\n",
      "Info    : [ 40%] Meshing surface 35 (Plane, Frontal-Delaunay)\n",
      "Info    : [ 50%] Meshing surface 36 (Plane, Frontal-Delaunay)\n",
      "Info    : [ 50%] Meshing surface 37 (Plane, Frontal-Delaunay)\n",
      "Info    : [ 60%] Meshing surface 38 (Plane, Frontal-Delaunay)\n",
      "Info    : [ 60%] Meshing surface 39 (Plane, Frontal-Delaunay)\n",
      "Info    : [ 70%] Meshing surface 40 (Plane, Frontal-Delaunay)\n",
      "Info    : Done meshing 2D (Wall 7.80482s, CPU 34.2137s)\n",
      "Info    : Meshing 3D...\n",
      "Info    : 3D Meshing 2 volumes with 1 connected component\n",
      "Info    : Creating an empty mesh with 113106 vertices\n",
      "Info    : Initialization of tet. mesh\n",
      "Info    : Delaunay of     113102 points on   8 threads - mesh.nvert: 4         \n",
      "Info    : Recovering 2809 missing facet(s)\n",
      "Info    : Recover Delaunay\n",
      "Info    : All volumes of the BRep were found and colorized accordingly\n",
      "Info    : Computing mesh sizes...\n",
      "Info    : Done computing mesh sizes\n",
      "Info    : Delaunay of     335825 points on   8 threads - mesh.nvert: 113106    \n",
      "Info    :           -     314462 points filtered\n",
      "Info    :           =      21363 points added\n",
      "Info    : Computing mesh sizes...\n",
      "Info    : Done computing mesh sizes\n",
      "Info    : Delaunay of     304505 points on   8 threads - mesh.nvert: 134469    \n",
      "Info    :           -     257894 points filtered\n",
      "Info    :           =      46611 points added\n",
      "Info    : Computing mesh sizes...\n",
      "Info    : Done computing mesh sizes\n",
      "Info    : Delaunay of     259389 points on   8 threads - mesh.nvert: 181080    \n",
      "Info    :           -     191478 points filtered\n",
      "Info    :           =      67911 points added\n",
      "Info    : Computing mesh sizes...\n",
      "Info    : Done computing mesh sizes\n",
      "Info    : Delaunay of     202342 points on   8 threads - mesh.nvert: 248991    \n",
      "Info    :           -     140860 points filtered\n",
      "Info    :           =      61482 points added\n",
      "Info    : Computing mesh sizes...\n",
      "Info    : Done computing mesh sizes\n",
      "Info    : Delaunay of      62325 points on   8 threads - mesh.nvert: 310473    \n",
      "Info    :           -      36974 points filtered\n",
      "Info    :           =      25351 points added\n",
      "Info    : Computing mesh sizes...\n",
      "Info    : Done computing mesh sizes\n",
      "Info    : Delaunay of       7874 points on   2 threads - mesh.nvert: 335824    \n",
      "Info    :           -       3175 points filtered\n",
      "Info    :           =       4699 points added\n",
      "Info    : Computing mesh sizes...\n",
      "Info    : Done computing mesh sizes\n",
      "Info    : Delaunay of        578 points on   1 threads - mesh.nvert: 340523    \n",
      "Info    :           -        151 points filtered\n",
      "Info    :           =        427 points added\n",
      "Info    : Computing mesh sizes...\n",
      "Info    : Done computing mesh sizes\n",
      "Info    : Delaunay of         30 points on   1 threads - mesh.nvert: 340950    \n",
      "Info    :           -          5 points filtered\n",
      "Info    :           =         25 points added\n",
      "Info    : Computing mesh sizes...\n",
      "Info    : Done computing mesh sizes\n",
      "Info    : Improving     114469 tet. on   8 thrd (S & ER)\n",
      "Info    : Improving      43178 tet. on   8 thrd (S & ER)\n",
      "Info    : Improving      41006 tet. on   8 thrd (S & ER)\n",
      "Info    : Improving      40849 tet. on   8 thrd (GSC)\n",
      "Info    : Improving      40232 tet. on   8 thrd (S & ER)\n",
      "Info    : Improving      40185 tet. on   8 thrd (S & ER)\n",
      "Info    : Improving      40181 tet. on   8 thrd (GSC)\n",
      "Info    : Improving      40161 tet. on   8 thrd (S & ER)\n",
      "Info    :  \tFinal tet. mesh contains 2048168 tetrahedra\n",
      "Info    :  \tFinal tet. mesh contains 340975 vertices\n",
      "Info    : tEmptyMesh  \t = \t    0.438\n",
      "Info    : tVerifyBnd  \t = \t    0.067\n",
      "Info    : tBndRecovery\t = \t    1.506\n",
      "Info    : tConvertMesh\t = \t    0.075\n",
      "Info    : tRefine     \t = \t    4.257\n",
      "Info    : tOptimize   \t = \t   15.091\n",
      "Info    : Done meshing 3D (Wall 22.0109s, CPU 111.67s)\n",
      "Info    : 340975 nodes 2187343 elements\n"
     ]
    }
   ],
   "source": [
    "# Render the design\n",
    "elmer_renderer.render_design(open_pins=[(\"Q1\", \"coupler1\"), (\"Q1\", \"coupler2\"), (\"Q1\", \"readout\")],\n",
    "                             skip_junctions=True)"
   ]
  },
  {
   "cell_type": "code",
   "execution_count": 9,
   "id": "43145408-a90f-4e75-921d-ca8eafd5ea7e",
   "metadata": {},
   "outputs": [
    {
     "name": "stdout",
     "output_type": "stream",
     "text": [
      "-------------------------------------------------------\n",
      "Version       : 4.10.3\n",
      "License       : GNU General Public License\n",
      "Build OS      : Linux64-sdk\n",
      "Build date    : 20220526\n",
      "Build host    : gmsh.info\n",
      "Build options : 64Bit ALGLIB[contrib] ANN[contrib] Bamg Blas[petsc] Blossom Cgns DIntegration Dlopen DomHex Eigen[contrib] Fltk Gmm[contrib] Hxt Jpeg Kbipack Lapack[petsc] LinuxJoystick MathEx[contrib] Med Mesh Metis[contrib] Mmg Mpeg Netgen ONELAB ONELABMetamodel OpenCASCADE OpenCASCADE-CAF OpenGL OpenMP OptHom PETSc Parser Plugins Png Post QuadMeshingTools QuadTri Solver TetGen/BR Voro++[contrib] WinslowUntangler Zlib\n",
      "FLTK version  : 1.4.0\n",
      "PETSc version : 3.14.4 (real arithmtic)\n",
      "OCC version   : 7.6.1\n",
      "MED version   : 4.1.0\n",
      "Packaged by   : geuzaine\n",
      "Web site      : https://gmsh.info\n",
      "Issue tracker : https://gitlab.onelab.info/gmsh/gmsh/issues\n",
      "-------------------------------------------------------\n"
     ]
    }
   ],
   "source": [
    "# View the generated mesh\n",
    "elmer_renderer.launch_gmsh_gui()"
   ]
  },
  {
   "cell_type": "code",
   "execution_count": 10,
   "id": "ab7e7c7a-9207-4943-bf0f-1d183a8d007c",
   "metadata": {},
   "outputs": [
    {
     "name": "stdout",
     "output_type": "stream",
     "text": [
      "Info    : Writing './out.msh'...\n",
      "Info    : Done writing './out.msh'\n"
     ]
    }
   ],
   "source": [
    "# Export the generated mesh\n",
    "elmer_renderer.export_mesh()"
   ]
  },
  {
   "cell_type": "code",
   "execution_count": 11,
   "id": "5cc8b22f-f281-45c3-a53a-f2a7c9a29fed",
   "metadata": {},
   "outputs": [],
   "source": [
    "# Add a solution setup to solve for the capacitance matrix\n",
    "elmer_renderer.add_solution_setup('capacitance')"
   ]
  },
  {
   "cell_type": "code",
   "execution_count": 12,
   "id": "020dc57e-d668-4d7b-b8fc-62fcceb6468d",
   "metadata": {},
   "outputs": [
    {
     "name": "stderr",
     "output_type": "stream",
     "text": [
      "10:04AM 33s INFO [run]: Running ElmerGrid on input mesh from Gmsh...\n",
      "10:04AM 36s INFO [run]: Running ElmerSolver for solver type: 'capacitance'\n"
     ]
    }
   ],
   "source": [
    "# Run the simulation in ElmerFEM\n",
    "elmer_renderer.run('capacitance')"
   ]
  },
  {
   "cell_type": "code",
   "execution_count": 13,
   "id": "b250b918-1cd7-429d-b015-92b114bf2594",
   "metadata": {},
   "outputs": [
    {
     "data": {
      "text/html": [
       "<div>\n",
       "<style scoped>\n",
       "    .dataframe tbody tr th:only-of-type {\n",
       "        vertical-align: middle;\n",
       "    }\n",
       "\n",
       "    .dataframe tbody tr th {\n",
       "        vertical-align: top;\n",
       "    }\n",
       "\n",
       "    .dataframe thead th {\n",
       "        text-align: right;\n",
       "    }\n",
       "</style>\n",
       "<table border=\"1\" class=\"dataframe\">\n",
       "  <thead>\n",
       "    <tr style=\"text-align: right;\">\n",
       "      <th></th>\n",
       "      <th>Q1_readout_connector_pad</th>\n",
       "      <th>Q1_coupler1_connector_pad</th>\n",
       "      <th>Q1_coupler2_connector_pad</th>\n",
       "      <th>Q1_pad_top</th>\n",
       "      <th>Q1_pad_bot</th>\n",
       "      <th>ground_plane</th>\n",
       "    </tr>\n",
       "  </thead>\n",
       "  <tbody>\n",
       "    <tr>\n",
       "      <th>Q1_readout_connector_pad</th>\n",
       "      <td>58.642777</td>\n",
       "      <td>-0.207449</td>\n",
       "      <td>-0.207489</td>\n",
       "      <td>-1.738413</td>\n",
       "      <td>-17.001849</td>\n",
       "      <td>-39.487577</td>\n",
       "    </tr>\n",
       "    <tr>\n",
       "      <th>Q1_coupler1_connector_pad</th>\n",
       "      <td>-0.207449</td>\n",
       "      <td>54.425420</td>\n",
       "      <td>-0.281308</td>\n",
       "      <td>-14.877823</td>\n",
       "      <td>-1.578035</td>\n",
       "      <td>-37.480804</td>\n",
       "    </tr>\n",
       "    <tr>\n",
       "      <th>Q1_coupler2_connector_pad</th>\n",
       "      <td>-0.207489</td>\n",
       "      <td>-0.281308</td>\n",
       "      <td>54.465498</td>\n",
       "      <td>-14.877109</td>\n",
       "      <td>-1.577301</td>\n",
       "      <td>-37.522291</td>\n",
       "    </tr>\n",
       "    <tr>\n",
       "      <th>Q1_pad_top</th>\n",
       "      <td>-1.738413</td>\n",
       "      <td>-14.877823</td>\n",
       "      <td>-14.877109</td>\n",
       "      <td>105.435016</td>\n",
       "      <td>-35.252087</td>\n",
       "      <td>-38.689583</td>\n",
       "    </tr>\n",
       "    <tr>\n",
       "      <th>Q1_pad_bot</th>\n",
       "      <td>-17.001849</td>\n",
       "      <td>-1.578035</td>\n",
       "      <td>-1.577301</td>\n",
       "      <td>-35.252087</td>\n",
       "      <td>99.501895</td>\n",
       "      <td>-44.092622</td>\n",
       "    </tr>\n",
       "    <tr>\n",
       "      <th>ground_plane</th>\n",
       "      <td>-39.487577</td>\n",
       "      <td>-37.480804</td>\n",
       "      <td>-37.522291</td>\n",
       "      <td>-38.689583</td>\n",
       "      <td>-44.092622</td>\n",
       "      <td>300.000000</td>\n",
       "    </tr>\n",
       "  </tbody>\n",
       "</table>\n",
       "</div>"
      ],
      "text/plain": [
       "                           Q1_readout_connector_pad  \\\n",
       "Q1_readout_connector_pad                  58.642777   \n",
       "Q1_coupler1_connector_pad                 -0.207449   \n",
       "Q1_coupler2_connector_pad                 -0.207489   \n",
       "Q1_pad_top                                -1.738413   \n",
       "Q1_pad_bot                               -17.001849   \n",
       "ground_plane                             -39.487577   \n",
       "\n",
       "                           Q1_coupler1_connector_pad  \\\n",
       "Q1_readout_connector_pad                   -0.207449   \n",
       "Q1_coupler1_connector_pad                  54.425420   \n",
       "Q1_coupler2_connector_pad                  -0.281308   \n",
       "Q1_pad_top                                -14.877823   \n",
       "Q1_pad_bot                                 -1.578035   \n",
       "ground_plane                              -37.480804   \n",
       "\n",
       "                           Q1_coupler2_connector_pad  Q1_pad_top  Q1_pad_bot  \\\n",
       "Q1_readout_connector_pad                   -0.207489   -1.738413  -17.001849   \n",
       "Q1_coupler1_connector_pad                  -0.281308  -14.877823   -1.578035   \n",
       "Q1_coupler2_connector_pad                  54.465498  -14.877109   -1.577301   \n",
       "Q1_pad_top                                -14.877109  105.435016  -35.252087   \n",
       "Q1_pad_bot                                 -1.577301  -35.252087   99.501895   \n",
       "ground_plane                              -37.522291  -38.689583  -44.092622   \n",
       "\n",
       "                           ground_plane  \n",
       "Q1_readout_connector_pad     -39.487577  \n",
       "Q1_coupler1_connector_pad    -37.480804  \n",
       "Q1_coupler2_connector_pad    -37.522291  \n",
       "Q1_pad_top                   -38.689583  \n",
       "Q1_pad_bot                   -44.092622  \n",
       "ground_plane                 300.000000  "
      ]
     },
     "execution_count": 13,
     "metadata": {},
     "output_type": "execute_result"
    }
   ],
   "source": [
    "# Display the capacitnce matrix obtained after the simulation\n",
    "cap_matrix = elmer_renderer.capacitance_matrix\n",
    "cap_matrix"
   ]
  },
  {
   "cell_type": "code",
   "execution_count": 14,
   "id": "e526b8d2-db5a-4af6-9d2f-2f4a715e2b9c",
   "metadata": {},
   "outputs": [
    {
     "data": {
      "text/html": [
       "\n",
       "    <h1 style=\"\n",
       "        background: #12c2e9;  /* fallback for old browsers */\n",
       "        background: -webkit-linear-gradient(to right, #d4418e 0%, #0652c5 74%);  /* Chrome 10-25, Safari 5.1-6 */\n",
       "        background: linear-gradient(315deg, #d4418e 0%, #0652c5 74%); /* W3C, IE 10+/ Edge, Firefox 16+, Chrome 26+, Opera 12+, Safari 7+ */\n",
       "        margin-top: 50px;\n",
       "        border-style: outset;\n",
       "        padding-top:100px;\n",
       "        padding-bottom:50px;\n",
       "        padding-left:25px;\n",
       "        color: white;\n",
       "    \"> Perform LOM 2.0 Analysis <h1>\n",
       "        "
      ],
      "text/plain": [
       "<IPython.core.display.HTML object>"
      ]
     },
     "metadata": {},
     "output_type": "display_data"
    }
   ],
   "source": [
    "%metal_heading Perform LOM 2.0 Analysis"
   ]
  },
  {
   "cell_type": "code",
   "execution_count": 15,
   "id": "603f8d95-ac34-40e0-9574-53d0f6cde2b8",
   "metadata": {},
   "outputs": [
    {
     "name": "stderr",
     "output_type": "stream",
     "text": [
      "10:06AM 45s INFO [__init__]: TransmonBuilder with system_type TRANSMON registered to QuantumSystemRegistry\n",
      "10:06AM 45s INFO [__init__]: FluxoniumBuilder with system_type FLUXONIUM registered to QuantumSystemRegistry\n",
      "10:06AM 45s INFO [__init__]: TLResonatorBuilder with system_type TL_RESONATOR registered to QuantumSystemRegistry\n",
      "10:06AM 45s INFO [__init__]: LumpedResonatorBuilder with system_type LUMPED_RESONATOR registered to QuantumSystemRegistry\n"
     ]
    }
   ],
   "source": [
    "import numpy as np\n",
    "\n",
    "from qiskit_metal.analyses.quantization.lom_core_analysis import CompositeSystem, Cell, Subsystem \n",
    "\n",
    "from scipy.constants import speed_of_light as c_light\n",
    "\n",
    "import matplotlib.pyplot as plt\n",
    "%matplotlib inline"
   ]
  },
  {
   "cell_type": "code",
   "execution_count": 16,
   "id": "9ecae74b-95fe-499b-9a25-3c6085173765",
   "metadata": {},
   "outputs": [],
   "source": [
    "# Define cells\n",
    "opt1 = dict(\n",
    "    node_rename = {'Q1_coupler1_connector_pad': 'coupler1', 'Q1_coupler2_connector_pad': 'coupler2', 'Q1_readout_connector_pad': 'readout'}, \n",
    "    cap_mat = cap_matrix,\n",
    "    ind_dict = {('Q1_pad_top', 'Q1_pad_bot'): 12},  # junction inductance in nH\n",
    "    jj_dict = {('Q1_pad_top', 'Q1_pad_bot'): 'j1'},\n",
    "    cj_dict = {('Q1_pad_top', 'Q1_pad_bot'): 2}, # junction capacitance in fF\n",
    ")\n",
    "cell_1 = Cell(opt1)"
   ]
  },
  {
   "cell_type": "code",
   "execution_count": 17,
   "id": "d5c8c296-13f9-4ec9-8daf-96f2f882b923",
   "metadata": {},
   "outputs": [],
   "source": [
    "# Define subsystems\n",
    "# subsystem 1: Transmon\n",
    "transmon = Subsystem(name='transmon1_sys', sys_type='TRANSMON', nodes=['j1'])\n",
    "\n",
    "# subsystem 2: Coupler 1\n",
    "q_opts = dict(\n",
    "    f_res = 7.4, # resonator dressed frequency in GHz\n",
    "    Z0 = 50, # characteristic impedance in Ohm\n",
    "    vp = 0.404314 * c_light # phase velocity \n",
    ")\n",
    "coup1 = Subsystem(name='coup1_sys', sys_type='TL_RESONATOR', nodes=['coupler1'], q_opts=q_opts)\n",
    "\n",
    "# subsystem 3: Coupler 2\n",
    "q_opts = dict(\n",
    "    f_res = 7.2, # resonator dressed frequency in GHz\n",
    "    Z0 = 50, # characteristic impedance in Ohm\n",
    "    vp = 0.404314 * c_light # phase velocity \n",
    ")\n",
    "coup2 = Subsystem(name='coup2_sys', sys_type='TL_RESONATOR', nodes=['coupler2'], q_opts=q_opts)\n",
    "\n",
    "# subsystem 4: Readout\n",
    "q_opts = dict(\n",
    "    f_res = 7, # resonator dressed frequency in GHz\n",
    "    Z0 = 50, # characteristic impedance in Ohm\n",
    "    vp = 0.404314 * c_light # phase velocity \n",
    ")\n",
    "readout = Subsystem(name='readout_sys', sys_type='TL_RESONATOR', nodes=['readout'], q_opts=q_opts)"
   ]
  },
  {
   "cell_type": "code",
   "execution_count": 18,
   "id": "4f44c894-aa2b-4632-b513-da391f101b93",
   "metadata": {},
   "outputs": [],
   "source": [
    "composite_sys = CompositeSystem(\n",
    "    subsystems=[transmon, coup1, coup2, readout], \n",
    "    cells=[cell_1], \n",
    "    grd_node='ground_plane',\n",
    "    nodes_force_keep=['coupler1', 'coupler2', 'readout']\n",
    ")"
   ]
  },
  {
   "cell_type": "code",
   "execution_count": 19,
   "id": "86f39d01-c88f-4300-987f-0384703daf61",
   "metadata": {},
   "outputs": [
    {
     "name": "stdout",
     "output_type": "stream",
     "text": [
      "node_jj_basis:\n",
      "-------------\n",
      "\n",
      "['j1', 'Q1_pad_bot', 'coupler1', 'coupler2', 'readout']\n",
      "\n",
      "nodes_keep:\n",
      "-------------\n",
      "\n",
      "['j1', 'coupler1', 'coupler2', 'readout']\n",
      "\n",
      "\n",
      "L_inv_k (reduced inverse inductance matrix):\n",
      "-------------\n",
      "\n",
      "                j1  coupler1  coupler2  readout\n",
      "j1        0.083333       0.0       0.0      0.0\n",
      "coupler1  0.000000       0.0       0.0      0.0\n",
      "coupler2  0.000000       0.0       0.0      0.0\n",
      "readout   0.000000       0.0       0.0      0.0\n",
      "\n",
      "C_k (reduced capacitance matrix):\n",
      "-------------\n",
      "\n",
      "                 j1   coupler1   coupler2    readout\n",
      "j1        70.794807  -6.286759  -6.286800   8.045264\n",
      "coupler1  -6.286759  52.411064  -2.295486  -2.501438\n",
      "coupler2  -6.286800  -2.295486  52.451497  -2.501275\n",
      "readout    8.045264  -2.501438  -2.501275  56.030337\n",
      "\n",
      "\n"
     ]
    }
   ],
   "source": [
    "cg = composite_sys.circuitGraph()\n",
    "print(cg)"
   ]
  },
  {
   "cell_type": "code",
   "execution_count": 20,
   "id": "19fee4da-5659-4b3b-ad29-182565ee8933",
   "metadata": {},
   "outputs": [
    {
     "name": "stderr",
     "output_type": "stream",
     "text": [
      "WARNING:py.warnings:RuntimeWarning: divide by zero encountered in double_scalars\n",
      " /home/abeerv/Documents/coding/qiskit-metal/qiskit_metal/analyses/quantization/lom_core_analysis.py: 170\n",
      "WARNING:py.warnings:RuntimeWarning: divide by zero encountered in double_scalars\n",
      " /home/abeerv/Documents/coding/qiskit-metal/qiskit_metal/analyses/quantization/lom_core_analysis.py: 170\n",
      "WARNING:py.warnings:RuntimeWarning: divide by zero encountered in double_scalars\n",
      " /home/abeerv/Documents/coding/qiskit-metal/qiskit_metal/analyses/quantization/lom_core_analysis.py: 170\n"
     ]
    },
    {
     "name": "stdout",
     "output_type": "stream",
     "text": [
      "HilbertSpace:  subsystems\n",
      "-------------------------\n",
      "\n",
      "Transmon------------| [Transmon_1]\n",
      "                    | EJ: 13621.792733898432\n",
      "                    | EC: 283.8891013062019\n",
      "                    | ng: 0.001\n",
      "                    | ncut: 22\n",
      "                    | truncated_dim: 10\n",
      "                    |\n",
      "                    | dim: 45\n",
      "\n",
      "\n",
      "Oscillator----------| [Oscillator_1]\n",
      "                    | E_osc: 7400.0\n",
      "                    | l_osc: None\n",
      "                    | truncated_dim: 3\n",
      "                    |\n",
      "                    | dim: 3\n",
      "\n",
      "\n",
      "Oscillator----------| [Oscillator_2]\n",
      "                    | E_osc: 7200.0\n",
      "                    | l_osc: None\n",
      "                    | truncated_dim: 3\n",
      "                    |\n",
      "                    | dim: 3\n",
      "\n",
      "\n",
      "Oscillator----------| [Oscillator_3]\n",
      "                    | E_osc: 7000\n",
      "                    | l_osc: None\n",
      "                    | truncated_dim: 3\n",
      "                    |\n",
      "                    | dim: 3\n",
      "\n",
      "\n"
     ]
    }
   ],
   "source": [
    "hilbertspace = composite_sys.create_hilbertspace()\n",
    "print(hilbertspace)"
   ]
  },
  {
   "cell_type": "code",
   "execution_count": 21,
   "id": "c18d596f-1778-4bf1-852c-6a3c7c8dc927",
   "metadata": {},
   "outputs": [
    {
     "name": "stderr",
     "output_type": "stream",
     "text": [
      "WARNING:py.warnings:RuntimeWarning: divide by zero encountered in double_scalars\n",
      " /home/abeerv/Documents/coding/qiskit-metal/qiskit_metal/analyses/quantization/lom_core_analysis.py: 170\n",
      "WARNING:py.warnings:RuntimeWarning: divide by zero encountered in double_scalars\n",
      " /home/abeerv/Documents/coding/qiskit-metal/qiskit_metal/analyses/quantization/lom_core_analysis.py: 170\n",
      "WARNING:py.warnings:RuntimeWarning: divide by zero encountered in double_scalars\n",
      " /home/abeerv/Documents/coding/qiskit-metal/qiskit_metal/analyses/quantization/lom_core_analysis.py: 170\n"
     ]
    },
    {
     "data": {
      "text/latex": [
       "Quantum object: dims = [[10, 3, 3, 3], [10, 3, 3, 3]], shape = (270, 270), type = oper, isherm = True\\begin{equation*}\\left(\\begin{array}{*{11}c}-1.091\\times10^{+04} & 0.093j & 0.0 & -0.080j & -9.360 & \\cdots & 0.0 & 0.0 & 0.0 & 0.0 & 0.0\\\\-0.093j & -3.914\\times10^{+03} & 0.131j & 9.360 & -0.080j & \\cdots & 0.0 & 0.0 & 0.0 & 0.0 & 0.0\\\\0.0 & -0.131j & 3.086\\times10^{+03} & 0.0 & 13.238 & \\cdots & 0.0 & 0.0 & 0.0 & 0.0 & 0.0\\\\0.080j & 9.360 & 0.0 & -3.714\\times10^{+03} & 0.093j & \\cdots & 0.0 & 0.0 & 0.0 & 0.0 & 0.0\\\\-9.360 & 0.080j & 13.238 & -0.093j & 3.286\\times10^{+03} & \\cdots & 0.0 & 0.0 & 0.0 & 0.0 & 0.0\\\\\\vdots & \\vdots & \\vdots & \\vdots & \\vdots & \\ddots & \\vdots & \\vdots & \\vdots & \\vdots & \\vdots\\\\0.0 & 0.0 & 0.0 & 0.0 & 0.0 & \\cdots & 5.822\\times10^{+04} & 634.638j & 13.238 & -547.864j & -18.721\\\\0.0 & 0.0 & 0.0 & 0.0 & 0.0 & \\cdots & -634.638j & 6.522\\times10^{+04} & 0.0 & 18.721 & -547.864j\\\\0.0 & 0.0 & 0.0 & 0.0 & 0.0 & \\cdots & 13.238 & 0.0 & 5.842\\times10^{+04} & 448.757j & 0.0\\\\0.0 & 0.0 & 0.0 & 0.0 & 0.0 & \\cdots & 547.864j & 18.721 & -448.757j & 6.542\\times10^{+04} & 634.638j\\\\0.0 & 0.0 & 0.0 & 0.0 & 0.0 & \\cdots & -18.721 & 547.864j & 0.0 & -634.638j & 7.242\\times10^{+04}\\\\\\end{array}\\right)\\end{equation*}"
      ],
      "text/plain": [
       "Quantum object: dims = [[10, 3, 3, 3], [10, 3, 3, 3]], shape = (270, 270), type = oper, isherm = True\n",
       "Qobj data =\n",
       "[[-10913.69811544+0.00000000e+00j      0.        +9.27259746e-02j\n",
       "       0.        +0.00000000e+00j ...      0.        +0.00000000e+00j\n",
       "       0.        +0.00000000e+00j      0.        +0.00000000e+00j]\n",
       " [     0.        -9.27259746e-02j  -3913.69811544+0.00000000e+00j\n",
       "       0.        +1.31134331e-01j ...      0.        +0.00000000e+00j\n",
       "       0.        +0.00000000e+00j      0.        +0.00000000e+00j]\n",
       " [     0.        +0.00000000e+00j      0.        -1.31134331e-01j\n",
       "    3086.30188456+0.00000000e+00j ...      0.        +0.00000000e+00j\n",
       "       0.        +0.00000000e+00j      0.        +0.00000000e+00j]\n",
       " ...\n",
       " [     0.        +0.00000000e+00j      0.        +0.00000000e+00j\n",
       "       0.        +0.00000000e+00j ...  58420.25108765+0.00000000e+00j\n",
       "       0.        +4.48756562e+02j      0.        +0.00000000e+00j]\n",
       " [     0.        +0.00000000e+00j      0.        +0.00000000e+00j\n",
       "       0.        +0.00000000e+00j ...      0.        -4.48756562e+02j\n",
       "   65420.25108765+0.00000000e+00j      0.        +6.34637616e+02j]\n",
       " [     0.        +0.00000000e+00j      0.        +0.00000000e+00j\n",
       "       0.        +0.00000000e+00j ...      0.        +0.00000000e+00j\n",
       "       0.        -6.34637616e+02j  72420.25108765+0.00000000e+00j]]"
      ]
     },
     "execution_count": 21,
     "metadata": {},
     "output_type": "execute_result"
    }
   ],
   "source": [
    "hilbertspace = composite_sys.add_interaction()\n",
    "hilbertspace.hamiltonian()"
   ]
  },
  {
   "cell_type": "code",
   "execution_count": 22,
   "id": "b4c2cdfb-6ede-46eb-bbaf-c19f75b9a5d5",
   "metadata": {},
   "outputs": [
    {
     "name": "stdout",
     "output_type": "stream",
     "text": [
      "\n",
      "system frequencies in GHz:\n",
      "--------------------------\n",
      "{'transmon1_sys': 5.246230783549792, 'coup1_sys': 7.404760687252339, 'coup2_sys': 7.20162376621984, 'readout_sys': 7.00470213144558}\n",
      "\n",
      "Chi matrices in MHz\n",
      "--------------------------\n",
      "               transmon1_sys  coup1_sys  coup2_sys  readout_sys\n",
      "transmon1_sys    -322.074613  -1.465784  -1.095632    -2.493349\n",
      "coup1_sys          -1.465784   1.876504   0.058919    -0.005352\n",
      "coup2_sys          -1.095632   0.058919   1.809262    -0.000002\n",
      "readout_sys        -2.493349  -0.005352  -0.000002     2.460610\n"
     ]
    }
   ],
   "source": [
    "hamiltonian_results = composite_sys.hamiltonian_results(hilbertspace, evals_count=30)"
   ]
  },
  {
   "cell_type": "code",
   "execution_count": 23,
   "id": "1ffdde51-974e-4564-b107-81b577ebf55d",
   "metadata": {},
   "outputs": [
    {
     "data": {
      "text/plain": [
       "                 j1   coupler1   coupler2    readout\n",
       "j1         0.000000  82.238000  80.047840 -92.726162\n",
       "coupler1  82.238000   0.000000  15.255833   9.617423\n",
       "coupler2  80.047840  15.255833   0.000000   9.360419\n",
       "readout  -92.726162   9.617423   9.360419   0.000000"
      ]
     },
     "execution_count": 23,
     "metadata": {},
     "output_type": "execute_result"
    }
   ],
   "source": [
    "composite_sys.compute_gs()"
   ]
  },
  {
   "cell_type": "code",
   "execution_count": 24,
   "id": "963212c4-b31f-48c0-ac56-0058e477b9e0",
   "metadata": {},
   "outputs": [
    {
     "data": {
      "text/plain": [
       "defaultdict(dict,\n",
       "            {'j1': {'EJ': 13621.792733898432,\n",
       "              'EC': 283.8891013062019,\n",
       "              'Q_zpf': 3.204353268e-19,\n",
       "              'default_charge_op': Operator(op=array([[-22,   0,   0, ...,   0,   0,   0],\n",
       "                     [  0, -21,   0, ...,   0,   0,   0],\n",
       "                     [  0,   0, -20, ...,   0,   0,   0],\n",
       "                     ...,\n",
       "                     [  0,   0,   0, ...,  20,   0,   0],\n",
       "                     [  0,   0,   0, ...,   0,  21,   0],\n",
       "                     [  0,   0,   0, ...,   0,   0,  22]]), add_hc=False)}})"
      ]
     },
     "execution_count": 24,
     "metadata": {},
     "output_type": "execute_result"
    }
   ],
   "source": [
    "transmon.h_params"
   ]
  },
  {
   "cell_type": "code",
   "execution_count": 25,
   "id": "05cd0f54-cbe1-4814-95b5-906cae779872",
   "metadata": {},
   "outputs": [
    {
     "name": "stdout",
     "output_type": "stream",
     "text": [
      "Info    : Clearing all models and views...\n",
      "Info    : Done clearing all models and views\n"
     ]
    }
   ],
   "source": [
    "elmer_renderer.close()"
   ]
  },
  {
   "cell_type": "code",
   "execution_count": 26,
   "id": "44627014-50d7-4f5c-b873-c7c438d6c6da",
   "metadata": {},
   "outputs": [
    {
     "data": {
      "text/plain": [
       "True"
      ]
     },
     "execution_count": 26,
     "metadata": {},
     "output_type": "execute_result"
    }
   ],
   "source": [
    "gui.main_window.close()"
   ]
  },
  {
   "cell_type": "code",
   "execution_count": null,
   "id": "9c3428fa-7009-451d-9032-a54ecf888791",
   "metadata": {},
   "outputs": [],
   "source": []
  }
 ],
 "metadata": {
  "kernelspec": {
   "display_name": "Python 3 (ipykernel)",
   "language": "python",
   "name": "python3"
  },
  "language_info": {
   "codemirror_mode": {
    "name": "ipython",
    "version": 3
   },
   "file_extension": ".py",
   "mimetype": "text/x-python",
   "name": "python",
   "nbconvert_exporter": "python",
   "pygments_lexer": "ipython3",
   "version": "3.9.7"
  }
 },
 "nbformat": 4,
 "nbformat_minor": 5
}
